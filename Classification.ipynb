{
 "cells": [
  {
   "cell_type": "code",
   "execution_count": 195,
   "metadata": {},
   "outputs": [],
   "source": [
    "import numpy as np\n",
    "import matplotlib.pyplot as plt \n",
    "\n",
    "import pandas as pd  \n",
    "import seaborn as sns \n",
    "from sklearn.model_selection import train_test_split\n",
    "from sklearn import datasets, linear_model, metrics\n",
    "from sklearn.preprocessing import PolynomialFeatures\n",
    "from sklearn.metrics import mean_squared_error\n",
    "from sklearn.model_selection import cross_val_score\n",
    "from sklearn.preprocessing import StandardScaler\n",
    "from sklearn.model_selection import StratifiedKFold\n",
    "from statistics import mean\n",
    "from sklearn.metrics import confusion_matrix\n",
    "from sklearn.metrics import accuracy_score\n",
    "%matplotlib inline"
   ]
  },
  {
   "cell_type": "code",
   "execution_count": 196,
   "metadata": {},
   "outputs": [],
   "source": [
    "data_big=pd.read_csv('C:/Users/salma/Desktop/uni/machine learning/class_data.csv')"
   ]
  },
  {
   "cell_type": "code",
   "execution_count": 197,
   "metadata": {},
   "outputs": [
    {
     "data": {
      "text/html": [
       "<div>\n",
       "<style scoped>\n",
       "    .dataframe tbody tr th:only-of-type {\n",
       "        vertical-align: middle;\n",
       "    }\n",
       "\n",
       "    .dataframe tbody tr th {\n",
       "        vertical-align: top;\n",
       "    }\n",
       "\n",
       "    .dataframe thead th {\n",
       "        text-align: right;\n",
       "    }\n",
       "</style>\n",
       "<table border=\"1\" class=\"dataframe\">\n",
       "  <thead>\n",
       "    <tr style=\"text-align: right;\">\n",
       "      <th></th>\n",
       "      <th>step</th>\n",
       "      <th>type</th>\n",
       "      <th>amount</th>\n",
       "      <th>nameOrig</th>\n",
       "      <th>oldbalanceOrg</th>\n",
       "      <th>newbalanceOrig</th>\n",
       "      <th>nameDest</th>\n",
       "      <th>oldbalanceDest</th>\n",
       "      <th>newbalanceDest</th>\n",
       "      <th>isFraud</th>\n",
       "      <th>isFlaggedFraud</th>\n",
       "    </tr>\n",
       "  </thead>\n",
       "  <tbody>\n",
       "    <tr>\n",
       "      <th>0</th>\n",
       "      <td>1</td>\n",
       "      <td>PAYMENT</td>\n",
       "      <td>9839.64</td>\n",
       "      <td>C1231006815</td>\n",
       "      <td>170136.0</td>\n",
       "      <td>160296.36</td>\n",
       "      <td>M1979787155</td>\n",
       "      <td>0.0</td>\n",
       "      <td>0.0</td>\n",
       "      <td>0</td>\n",
       "      <td>0</td>\n",
       "    </tr>\n",
       "    <tr>\n",
       "      <th>1</th>\n",
       "      <td>1</td>\n",
       "      <td>PAYMENT</td>\n",
       "      <td>1864.28</td>\n",
       "      <td>C1666544295</td>\n",
       "      <td>21249.0</td>\n",
       "      <td>19384.72</td>\n",
       "      <td>M2044282225</td>\n",
       "      <td>0.0</td>\n",
       "      <td>0.0</td>\n",
       "      <td>0</td>\n",
       "      <td>0</td>\n",
       "    </tr>\n",
       "    <tr>\n",
       "      <th>2</th>\n",
       "      <td>1</td>\n",
       "      <td>TRANSFER</td>\n",
       "      <td>181.00</td>\n",
       "      <td>C1305486145</td>\n",
       "      <td>181.0</td>\n",
       "      <td>0.00</td>\n",
       "      <td>C553264065</td>\n",
       "      <td>0.0</td>\n",
       "      <td>0.0</td>\n",
       "      <td>1</td>\n",
       "      <td>0</td>\n",
       "    </tr>\n",
       "    <tr>\n",
       "      <th>3</th>\n",
       "      <td>1</td>\n",
       "      <td>CASH_OUT</td>\n",
       "      <td>181.00</td>\n",
       "      <td>C840083671</td>\n",
       "      <td>181.0</td>\n",
       "      <td>0.00</td>\n",
       "      <td>C38997010</td>\n",
       "      <td>21182.0</td>\n",
       "      <td>0.0</td>\n",
       "      <td>1</td>\n",
       "      <td>0</td>\n",
       "    </tr>\n",
       "    <tr>\n",
       "      <th>4</th>\n",
       "      <td>1</td>\n",
       "      <td>PAYMENT</td>\n",
       "      <td>11668.14</td>\n",
       "      <td>C2048537720</td>\n",
       "      <td>41554.0</td>\n",
       "      <td>29885.86</td>\n",
       "      <td>M1230701703</td>\n",
       "      <td>0.0</td>\n",
       "      <td>0.0</td>\n",
       "      <td>0</td>\n",
       "      <td>0</td>\n",
       "    </tr>\n",
       "  </tbody>\n",
       "</table>\n",
       "</div>"
      ],
      "text/plain": [
       "   step      type    amount     nameOrig  oldbalanceOrg  newbalanceOrig  \\\n",
       "0     1   PAYMENT   9839.64  C1231006815       170136.0       160296.36   \n",
       "1     1   PAYMENT   1864.28  C1666544295        21249.0        19384.72   \n",
       "2     1  TRANSFER    181.00  C1305486145          181.0            0.00   \n",
       "3     1  CASH_OUT    181.00   C840083671          181.0            0.00   \n",
       "4     1   PAYMENT  11668.14  C2048537720        41554.0        29885.86   \n",
       "\n",
       "      nameDest  oldbalanceDest  newbalanceDest  isFraud  isFlaggedFraud  \n",
       "0  M1979787155             0.0             0.0        0               0  \n",
       "1  M2044282225             0.0             0.0        0               0  \n",
       "2   C553264065             0.0             0.0        1               0  \n",
       "3    C38997010         21182.0             0.0        1               0  \n",
       "4  M1230701703             0.0             0.0        0               0  "
      ]
     },
     "execution_count": 197,
     "metadata": {},
     "output_type": "execute_result"
    }
   ],
   "source": [
    "data_big.head()"
   ]
  },
  {
   "cell_type": "code",
   "execution_count": 31,
   "metadata": {},
   "outputs": [
    {
     "name": "stdout",
     "output_type": "stream",
     "text": [
      "(3817572, 11) (1272524, 11) (1272524, 11)\n"
     ]
    }
   ],
   "source": [
    "# X, X_test, y, y_test =train_test_split(data,\n",
    "#                                       data['isFraud'],\n",
    "#                                       test_size=0.2,\n",
    "#                                       random_state=0)\n",
    "# X_train, X_CV, y_train, y_CV =train_test_split(X,y,\n",
    "#                                                test_size=0.25,\n",
    "#                                                random_state=0)\n",
    "\n",
    "# print(X_train.shape,X_test.shape,X_CV.shape)\n"
   ]
  },
  {
   "cell_type": "code",
   "execution_count": 198,
   "metadata": {},
   "outputs": [
    {
     "data": {
      "text/html": [
       "<div>\n",
       "<style scoped>\n",
       "    .dataframe tbody tr th:only-of-type {\n",
       "        vertical-align: middle;\n",
       "    }\n",
       "\n",
       "    .dataframe tbody tr th {\n",
       "        vertical-align: top;\n",
       "    }\n",
       "\n",
       "    .dataframe thead th {\n",
       "        text-align: right;\n",
       "    }\n",
       "</style>\n",
       "<table border=\"1\" class=\"dataframe\">\n",
       "  <thead>\n",
       "    <tr style=\"text-align: right;\">\n",
       "      <th></th>\n",
       "      <th>step</th>\n",
       "      <th>type</th>\n",
       "      <th>amount</th>\n",
       "      <th>nameOrig</th>\n",
       "      <th>oldbalanceOrg</th>\n",
       "      <th>newbalanceOrig</th>\n",
       "      <th>nameDest</th>\n",
       "      <th>oldbalanceDest</th>\n",
       "      <th>newbalanceDest</th>\n",
       "      <th>isFraud</th>\n",
       "      <th>isFlaggedFraud</th>\n",
       "    </tr>\n",
       "  </thead>\n",
       "  <tbody>\n",
       "    <tr>\n",
       "      <th>2314906</th>\n",
       "      <td>188</td>\n",
       "      <td>PAYMENT</td>\n",
       "      <td>6557.76</td>\n",
       "      <td>C1159974104</td>\n",
       "      <td>338419.13</td>\n",
       "      <td>331861.37</td>\n",
       "      <td>M627884075</td>\n",
       "      <td>0.00</td>\n",
       "      <td>0.00</td>\n",
       "      <td>0</td>\n",
       "      <td>0</td>\n",
       "    </tr>\n",
       "    <tr>\n",
       "      <th>5810578</th>\n",
       "      <td>401</td>\n",
       "      <td>PAYMENT</td>\n",
       "      <td>4889.39</td>\n",
       "      <td>C1145017828</td>\n",
       "      <td>203845.53</td>\n",
       "      <td>198956.14</td>\n",
       "      <td>M917391796</td>\n",
       "      <td>0.00</td>\n",
       "      <td>0.00</td>\n",
       "      <td>0</td>\n",
       "      <td>0</td>\n",
       "    </tr>\n",
       "    <tr>\n",
       "      <th>4154670</th>\n",
       "      <td>303</td>\n",
       "      <td>CASH_OUT</td>\n",
       "      <td>156446.23</td>\n",
       "      <td>C545116697</td>\n",
       "      <td>0.00</td>\n",
       "      <td>0.00</td>\n",
       "      <td>C1190796381</td>\n",
       "      <td>1495731.76</td>\n",
       "      <td>1652177.99</td>\n",
       "      <td>0</td>\n",
       "      <td>0</td>\n",
       "    </tr>\n",
       "    <tr>\n",
       "      <th>4102248</th>\n",
       "      <td>301</td>\n",
       "      <td>TRANSFER</td>\n",
       "      <td>1580384.91</td>\n",
       "      <td>C1969077210</td>\n",
       "      <td>99617.99</td>\n",
       "      <td>0.00</td>\n",
       "      <td>C1290604890</td>\n",
       "      <td>2256928.87</td>\n",
       "      <td>3837313.78</td>\n",
       "      <td>0</td>\n",
       "      <td>0</td>\n",
       "    </tr>\n",
       "    <tr>\n",
       "      <th>4825932</th>\n",
       "      <td>346</td>\n",
       "      <td>CASH_IN</td>\n",
       "      <td>66297.83</td>\n",
       "      <td>C31686925</td>\n",
       "      <td>141816.00</td>\n",
       "      <td>208113.83</td>\n",
       "      <td>C1112575669</td>\n",
       "      <td>674098.54</td>\n",
       "      <td>607800.71</td>\n",
       "      <td>0</td>\n",
       "      <td>0</td>\n",
       "    </tr>\n",
       "  </tbody>\n",
       "</table>\n",
       "</div>"
      ],
      "text/plain": [
       "         step      type      amount     nameOrig  oldbalanceOrg  \\\n",
       "2314906   188   PAYMENT     6557.76  C1159974104      338419.13   \n",
       "5810578   401   PAYMENT     4889.39  C1145017828      203845.53   \n",
       "4154670   303  CASH_OUT   156446.23   C545116697           0.00   \n",
       "4102248   301  TRANSFER  1580384.91  C1969077210       99617.99   \n",
       "4825932   346   CASH_IN    66297.83    C31686925      141816.00   \n",
       "\n",
       "         newbalanceOrig     nameDest  oldbalanceDest  newbalanceDest  isFraud  \\\n",
       "2314906       331861.37   M627884075            0.00            0.00        0   \n",
       "5810578       198956.14   M917391796            0.00            0.00        0   \n",
       "4154670            0.00  C1190796381      1495731.76      1652177.99        0   \n",
       "4102248            0.00  C1290604890      2256928.87      3837313.78        0   \n",
       "4825932       208113.83  C1112575669       674098.54       607800.71        0   \n",
       "\n",
       "         isFlaggedFraud  \n",
       "2314906               0  \n",
       "5810578               0  \n",
       "4154670               0  \n",
       "4102248               0  \n",
       "4825932               0  "
      ]
     },
     "execution_count": 198,
     "metadata": {},
     "output_type": "execute_result"
    }
   ],
   "source": [
    "data=data_big.sample(n=50000)\n",
    "data.head()"
   ]
  },
  {
   "cell_type": "code",
   "execution_count": 199,
   "metadata": {},
   "outputs": [
    {
     "name": "stdout",
     "output_type": "stream",
     "text": [
      "['PAYMENT' 'CASH_OUT' 'TRANSFER' 'CASH_IN' 'DEBIT']\n"
     ]
    },
    {
     "data": {
      "text/plain": [
       "50000"
      ]
     },
     "execution_count": 199,
     "metadata": {},
     "output_type": "execute_result"
    }
   ],
   "source": [
    "print(data['type'].unique())\n",
    "data['nameOrig'].count()"
   ]
  },
  {
   "cell_type": "code",
   "execution_count": 200,
   "metadata": {},
   "outputs": [
    {
     "data": {
      "text/html": [
       "<div>\n",
       "<style scoped>\n",
       "    .dataframe tbody tr th:only-of-type {\n",
       "        vertical-align: middle;\n",
       "    }\n",
       "\n",
       "    .dataframe tbody tr th {\n",
       "        vertical-align: top;\n",
       "    }\n",
       "\n",
       "    .dataframe thead th {\n",
       "        text-align: right;\n",
       "    }\n",
       "</style>\n",
       "<table border=\"1\" class=\"dataframe\">\n",
       "  <thead>\n",
       "    <tr style=\"text-align: right;\">\n",
       "      <th></th>\n",
       "      <th>step</th>\n",
       "      <th>type</th>\n",
       "      <th>amount</th>\n",
       "      <th>oldbalanceOrg</th>\n",
       "      <th>newbalanceOrig</th>\n",
       "      <th>oldbalanceDest</th>\n",
       "      <th>newbalanceDest</th>\n",
       "      <th>isFraud</th>\n",
       "      <th>isFlaggedFraud</th>\n",
       "    </tr>\n",
       "  </thead>\n",
       "  <tbody>\n",
       "    <tr>\n",
       "      <th>2314906</th>\n",
       "      <td>188</td>\n",
       "      <td>PAYMENT</td>\n",
       "      <td>6557.76</td>\n",
       "      <td>338419.13</td>\n",
       "      <td>331861.37</td>\n",
       "      <td>0.00</td>\n",
       "      <td>0.00</td>\n",
       "      <td>0</td>\n",
       "      <td>0</td>\n",
       "    </tr>\n",
       "    <tr>\n",
       "      <th>5810578</th>\n",
       "      <td>401</td>\n",
       "      <td>PAYMENT</td>\n",
       "      <td>4889.39</td>\n",
       "      <td>203845.53</td>\n",
       "      <td>198956.14</td>\n",
       "      <td>0.00</td>\n",
       "      <td>0.00</td>\n",
       "      <td>0</td>\n",
       "      <td>0</td>\n",
       "    </tr>\n",
       "    <tr>\n",
       "      <th>4154670</th>\n",
       "      <td>303</td>\n",
       "      <td>CASH_OUT</td>\n",
       "      <td>156446.23</td>\n",
       "      <td>0.00</td>\n",
       "      <td>0.00</td>\n",
       "      <td>1495731.76</td>\n",
       "      <td>1652177.99</td>\n",
       "      <td>0</td>\n",
       "      <td>0</td>\n",
       "    </tr>\n",
       "    <tr>\n",
       "      <th>4102248</th>\n",
       "      <td>301</td>\n",
       "      <td>TRANSFER</td>\n",
       "      <td>1580384.91</td>\n",
       "      <td>99617.99</td>\n",
       "      <td>0.00</td>\n",
       "      <td>2256928.87</td>\n",
       "      <td>3837313.78</td>\n",
       "      <td>0</td>\n",
       "      <td>0</td>\n",
       "    </tr>\n",
       "    <tr>\n",
       "      <th>4825932</th>\n",
       "      <td>346</td>\n",
       "      <td>CASH_IN</td>\n",
       "      <td>66297.83</td>\n",
       "      <td>141816.00</td>\n",
       "      <td>208113.83</td>\n",
       "      <td>674098.54</td>\n",
       "      <td>607800.71</td>\n",
       "      <td>0</td>\n",
       "      <td>0</td>\n",
       "    </tr>\n",
       "  </tbody>\n",
       "</table>\n",
       "</div>"
      ],
      "text/plain": [
       "         step      type      amount  oldbalanceOrg  newbalanceOrig  \\\n",
       "2314906   188   PAYMENT     6557.76      338419.13       331861.37   \n",
       "5810578   401   PAYMENT     4889.39      203845.53       198956.14   \n",
       "4154670   303  CASH_OUT   156446.23           0.00            0.00   \n",
       "4102248   301  TRANSFER  1580384.91       99617.99            0.00   \n",
       "4825932   346   CASH_IN    66297.83      141816.00       208113.83   \n",
       "\n",
       "         oldbalanceDest  newbalanceDest  isFraud  isFlaggedFraud  \n",
       "2314906            0.00            0.00        0               0  \n",
       "5810578            0.00            0.00        0               0  \n",
       "4154670      1495731.76      1652177.99        0               0  \n",
       "4102248      2256928.87      3837313.78        0               0  \n",
       "4825932       674098.54       607800.71        0               0  "
      ]
     },
     "execution_count": 200,
     "metadata": {},
     "output_type": "execute_result"
    }
   ],
   "source": [
    "#data.groupby('type', group_keys=False).apply(lambda x: x.sample(8))\n",
    "data.drop(['nameOrig','nameDest'],axis=1,inplace=True)\n",
    "data.head()"
   ]
  },
  {
   "cell_type": "code",
   "execution_count": 201,
   "metadata": {},
   "outputs": [],
   "source": [
    "type_new = pd.get_dummies(data['type'],drop_first=True)"
   ]
  },
  {
   "cell_type": "code",
   "execution_count": 202,
   "metadata": {},
   "outputs": [],
   "source": [
    "data = pd.concat([data,type_new],axis=1)"
   ]
  },
  {
   "cell_type": "code",
   "execution_count": 203,
   "metadata": {},
   "outputs": [
    {
     "data": {
      "text/html": [
       "<div>\n",
       "<style scoped>\n",
       "    .dataframe tbody tr th:only-of-type {\n",
       "        vertical-align: middle;\n",
       "    }\n",
       "\n",
       "    .dataframe tbody tr th {\n",
       "        vertical-align: top;\n",
       "    }\n",
       "\n",
       "    .dataframe thead th {\n",
       "        text-align: right;\n",
       "    }\n",
       "</style>\n",
       "<table border=\"1\" class=\"dataframe\">\n",
       "  <thead>\n",
       "    <tr style=\"text-align: right;\">\n",
       "      <th></th>\n",
       "      <th>step</th>\n",
       "      <th>type</th>\n",
       "      <th>amount</th>\n",
       "      <th>oldbalanceOrg</th>\n",
       "      <th>newbalanceOrig</th>\n",
       "      <th>oldbalanceDest</th>\n",
       "      <th>newbalanceDest</th>\n",
       "      <th>isFraud</th>\n",
       "      <th>isFlaggedFraud</th>\n",
       "      <th>CASH_OUT</th>\n",
       "      <th>DEBIT</th>\n",
       "      <th>PAYMENT</th>\n",
       "      <th>TRANSFER</th>\n",
       "    </tr>\n",
       "  </thead>\n",
       "  <tbody>\n",
       "    <tr>\n",
       "      <th>2314906</th>\n",
       "      <td>188</td>\n",
       "      <td>PAYMENT</td>\n",
       "      <td>6557.76</td>\n",
       "      <td>338419.13</td>\n",
       "      <td>331861.37</td>\n",
       "      <td>0.00</td>\n",
       "      <td>0.00</td>\n",
       "      <td>0</td>\n",
       "      <td>0</td>\n",
       "      <td>0</td>\n",
       "      <td>0</td>\n",
       "      <td>1</td>\n",
       "      <td>0</td>\n",
       "    </tr>\n",
       "    <tr>\n",
       "      <th>5810578</th>\n",
       "      <td>401</td>\n",
       "      <td>PAYMENT</td>\n",
       "      <td>4889.39</td>\n",
       "      <td>203845.53</td>\n",
       "      <td>198956.14</td>\n",
       "      <td>0.00</td>\n",
       "      <td>0.00</td>\n",
       "      <td>0</td>\n",
       "      <td>0</td>\n",
       "      <td>0</td>\n",
       "      <td>0</td>\n",
       "      <td>1</td>\n",
       "      <td>0</td>\n",
       "    </tr>\n",
       "    <tr>\n",
       "      <th>4154670</th>\n",
       "      <td>303</td>\n",
       "      <td>CASH_OUT</td>\n",
       "      <td>156446.23</td>\n",
       "      <td>0.00</td>\n",
       "      <td>0.00</td>\n",
       "      <td>1495731.76</td>\n",
       "      <td>1652177.99</td>\n",
       "      <td>0</td>\n",
       "      <td>0</td>\n",
       "      <td>1</td>\n",
       "      <td>0</td>\n",
       "      <td>0</td>\n",
       "      <td>0</td>\n",
       "    </tr>\n",
       "    <tr>\n",
       "      <th>4102248</th>\n",
       "      <td>301</td>\n",
       "      <td>TRANSFER</td>\n",
       "      <td>1580384.91</td>\n",
       "      <td>99617.99</td>\n",
       "      <td>0.00</td>\n",
       "      <td>2256928.87</td>\n",
       "      <td>3837313.78</td>\n",
       "      <td>0</td>\n",
       "      <td>0</td>\n",
       "      <td>0</td>\n",
       "      <td>0</td>\n",
       "      <td>0</td>\n",
       "      <td>1</td>\n",
       "    </tr>\n",
       "    <tr>\n",
       "      <th>4825932</th>\n",
       "      <td>346</td>\n",
       "      <td>CASH_IN</td>\n",
       "      <td>66297.83</td>\n",
       "      <td>141816.00</td>\n",
       "      <td>208113.83</td>\n",
       "      <td>674098.54</td>\n",
       "      <td>607800.71</td>\n",
       "      <td>0</td>\n",
       "      <td>0</td>\n",
       "      <td>0</td>\n",
       "      <td>0</td>\n",
       "      <td>0</td>\n",
       "      <td>0</td>\n",
       "    </tr>\n",
       "  </tbody>\n",
       "</table>\n",
       "</div>"
      ],
      "text/plain": [
       "         step      type      amount  oldbalanceOrg  newbalanceOrig  \\\n",
       "2314906   188   PAYMENT     6557.76      338419.13       331861.37   \n",
       "5810578   401   PAYMENT     4889.39      203845.53       198956.14   \n",
       "4154670   303  CASH_OUT   156446.23           0.00            0.00   \n",
       "4102248   301  TRANSFER  1580384.91       99617.99            0.00   \n",
       "4825932   346   CASH_IN    66297.83      141816.00       208113.83   \n",
       "\n",
       "         oldbalanceDest  newbalanceDest  isFraud  isFlaggedFraud  CASH_OUT  \\\n",
       "2314906            0.00            0.00        0               0         0   \n",
       "5810578            0.00            0.00        0               0         0   \n",
       "4154670      1495731.76      1652177.99        0               0         1   \n",
       "4102248      2256928.87      3837313.78        0               0         0   \n",
       "4825932       674098.54       607800.71        0               0         0   \n",
       "\n",
       "         DEBIT  PAYMENT  TRANSFER  \n",
       "2314906      0        1         0  \n",
       "5810578      0        1         0  \n",
       "4154670      0        0         0  \n",
       "4102248      0        0         1  \n",
       "4825932      0        0         0  "
      ]
     },
     "execution_count": 203,
     "metadata": {},
     "output_type": "execute_result"
    }
   ],
   "source": [
    "data.head()"
   ]
  },
  {
   "cell_type": "code",
   "execution_count": 204,
   "metadata": {},
   "outputs": [],
   "source": [
    "data_X = data[['step','amount','oldbalanceOrg','newbalanceOrig','oldbalanceDest','newbalanceDest','isFlaggedFraud','CASH_OUT','DEBIT','PAYMENT','TRANSFER']]\n",
    "data_y = data['isFraud']\n"
   ]
  },
  {
   "cell_type": "code",
   "execution_count": 205,
   "metadata": {},
   "outputs": [],
   "source": [
    "scaler = StandardScaler()\n",
    "scaler.fit(data_X)\n",
    "scaled_feature = scaler.transform(data_X)"
   ]
  },
  {
   "cell_type": "code",
   "execution_count": 206,
   "metadata": {},
   "outputs": [
    {
     "data": {
      "text/html": [
       "<div>\n",
       "<style scoped>\n",
       "    .dataframe tbody tr th:only-of-type {\n",
       "        vertical-align: middle;\n",
       "    }\n",
       "\n",
       "    .dataframe tbody tr th {\n",
       "        vertical-align: top;\n",
       "    }\n",
       "\n",
       "    .dataframe thead th {\n",
       "        text-align: right;\n",
       "    }\n",
       "</style>\n",
       "<table border=\"1\" class=\"dataframe\">\n",
       "  <thead>\n",
       "    <tr style=\"text-align: right;\">\n",
       "      <th></th>\n",
       "      <th>step</th>\n",
       "      <th>amount</th>\n",
       "      <th>oldbalanceOrg</th>\n",
       "      <th>newbalanceOrig</th>\n",
       "      <th>oldbalanceDest</th>\n",
       "      <th>newbalanceDest</th>\n",
       "      <th>isFlaggedFraud</th>\n",
       "      <th>CASH_OUT</th>\n",
       "      <th>DEBIT</th>\n",
       "      <th>PAYMENT</th>\n",
       "      <th>TRANSFER</th>\n",
       "    </tr>\n",
       "  </thead>\n",
       "  <tbody>\n",
       "    <tr>\n",
       "      <th>0</th>\n",
       "      <td>-0.389938</td>\n",
       "      <td>-0.297687</td>\n",
       "      <td>-0.170489</td>\n",
       "      <td>-0.177854</td>\n",
       "      <td>-0.339710</td>\n",
       "      <td>-0.351290</td>\n",
       "      <td>-0.004472</td>\n",
       "      <td>-0.736898</td>\n",
       "      <td>-0.082006</td>\n",
       "      <td>1.401434</td>\n",
       "      <td>-0.301722</td>\n",
       "    </tr>\n",
       "    <tr>\n",
       "      <th>1</th>\n",
       "      <td>1.105742</td>\n",
       "      <td>-0.300573</td>\n",
       "      <td>-0.216840</td>\n",
       "      <td>-0.223082</td>\n",
       "      <td>-0.339710</td>\n",
       "      <td>-0.351290</td>\n",
       "      <td>-0.004472</td>\n",
       "      <td>-0.736898</td>\n",
       "      <td>-0.082006</td>\n",
       "      <td>1.401434</td>\n",
       "      <td>-0.301722</td>\n",
       "    </tr>\n",
       "    <tr>\n",
       "      <th>2</th>\n",
       "      <td>0.417589</td>\n",
       "      <td>-0.038478</td>\n",
       "      <td>-0.287049</td>\n",
       "      <td>-0.290786</td>\n",
       "      <td>0.129842</td>\n",
       "      <td>0.130678</td>\n",
       "      <td>-0.004472</td>\n",
       "      <td>1.357039</td>\n",
       "      <td>-0.082006</td>\n",
       "      <td>-0.713555</td>\n",
       "      <td>-0.301722</td>\n",
       "    </tr>\n",
       "    <tr>\n",
       "      <th>3</th>\n",
       "      <td>0.403545</td>\n",
       "      <td>2.424009</td>\n",
       "      <td>-0.252738</td>\n",
       "      <td>-0.290786</td>\n",
       "      <td>0.368803</td>\n",
       "      <td>0.768118</td>\n",
       "      <td>-0.004472</td>\n",
       "      <td>-0.736898</td>\n",
       "      <td>-0.082006</td>\n",
       "      <td>-0.713555</td>\n",
       "      <td>3.314311</td>\n",
       "    </tr>\n",
       "    <tr>\n",
       "      <th>4</th>\n",
       "      <td>0.719533</td>\n",
       "      <td>-0.194376</td>\n",
       "      <td>-0.238204</td>\n",
       "      <td>-0.219966</td>\n",
       "      <td>-0.128092</td>\n",
       "      <td>-0.173984</td>\n",
       "      <td>-0.004472</td>\n",
       "      <td>-0.736898</td>\n",
       "      <td>-0.082006</td>\n",
       "      <td>-0.713555</td>\n",
       "      <td>-0.301722</td>\n",
       "    </tr>\n",
       "  </tbody>\n",
       "</table>\n",
       "</div>"
      ],
      "text/plain": [
       "       step    amount  oldbalanceOrg  newbalanceOrig  oldbalanceDest  \\\n",
       "0 -0.389938 -0.297687      -0.170489       -0.177854       -0.339710   \n",
       "1  1.105742 -0.300573      -0.216840       -0.223082       -0.339710   \n",
       "2  0.417589 -0.038478      -0.287049       -0.290786        0.129842   \n",
       "3  0.403545  2.424009      -0.252738       -0.290786        0.368803   \n",
       "4  0.719533 -0.194376      -0.238204       -0.219966       -0.128092   \n",
       "\n",
       "   newbalanceDest  isFlaggedFraud  CASH_OUT     DEBIT   PAYMENT  TRANSFER  \n",
       "0       -0.351290       -0.004472 -0.736898 -0.082006  1.401434 -0.301722  \n",
       "1       -0.351290       -0.004472 -0.736898 -0.082006  1.401434 -0.301722  \n",
       "2        0.130678       -0.004472  1.357039 -0.082006 -0.713555 -0.301722  \n",
       "3        0.768118       -0.004472 -0.736898 -0.082006 -0.713555  3.314311  \n",
       "4       -0.173984       -0.004472 -0.736898 -0.082006 -0.713555 -0.301722  "
      ]
     },
     "execution_count": 206,
     "metadata": {},
     "output_type": "execute_result"
    }
   ],
   "source": [
    "data_scaled = pd.DataFrame(scaled_feature,columns= ['step','amount','oldbalanceOrg','newbalanceOrig','oldbalanceDest','newbalanceDest','isFlaggedFraud','CASH_OUT','DEBIT','PAYMENT','TRANSFER'])\n",
    "data_scaled.head()\n"
   ]
  },
  {
   "cell_type": "code",
   "execution_count": 207,
   "metadata": {},
   "outputs": [
    {
     "name": "stdout",
     "output_type": "stream",
     "text": [
      "(30000, 11) (10000, 11) (10000, 11)\n"
     ]
    }
   ],
   "source": [
    "X, X_test, y, y_test =train_test_split(data_scaled,\n",
    "                                      data_y,\n",
    "                                      test_size=0.2,\n",
    "                                      random_state=0)\n",
    "X_train, X_CV, y_train, y_CV =train_test_split(X,y,\n",
    "                                               test_size=0.25,\n",
    "                                               random_state=0)\n",
    "\n",
    "print(X_train.shape,X_test.shape,X_CV.shape)\n"
   ]
  },
  {
   "cell_type": "code",
   "execution_count": 208,
   "metadata": {},
   "outputs": [
    {
     "data": {
      "text/plain": [
       "3398551    0\n",
       "426890     0\n",
       "357434     0\n",
       "1834615    0\n",
       "4324695    0\n",
       "          ..\n",
       "3053811    0\n",
       "5028322    0\n",
       "5903354    0\n",
       "5625577    0\n",
       "5297794    0\n",
       "Name: isFraud, Length: 40000, dtype: int64"
      ]
     },
     "execution_count": 208,
     "metadata": {},
     "output_type": "execute_result"
    }
   ],
   "source": [
    "y"
   ]
  },
  {
   "cell_type": "code",
   "execution_count": 240,
   "metadata": {},
   "outputs": [],
   "source": [
    "import warnings\n",
    "\n",
    "def fxn():\n",
    "    warnings.warn(\"deprecated\", DeprecationWarning)\n",
    "\n",
    "with warnings.catch_warnings():\n",
    "    warnings.simplefilter(\"ignore\")\n",
    "    fxn()\n",
    "from sklearn.linear_model import LogisticRegression\n",
    "logreg = LogisticRegression(max_iter=100000)\n",
    "skf = StratifiedKFold(n_splits=10, shuffle=True, random_state=1) \n",
    "model_score= []\n",
    "confusionmatrix=[]\n",
    "Accuracy=[]\n",
    "Precision=[]\n",
    "Recall=[]"
   ]
  },
  {
   "cell_type": "code",
   "execution_count": 241,
   "metadata": {},
   "outputs": [],
   "source": [
    "for train_index, test_index in skf.split(X ,y): \n",
    "    X_train_fold, X_test_fold = X.iloc[train_index], X.iloc[test_index] \n",
    "    y_train_fold, y_test_fold = y.iloc[train_index], y.iloc[test_index] \n",
    "    logreg.fit(X_train_fold, y_train_fold) \n",
    "    y_pred = logreg.predict(X_test_fold )\n",
    "    cm = confusion_matrix(y_test_fold, y_pred)\n",
    "    confusionmatrix.append(cm)\n",
    "    accuracyscore= accuracy_score(y_test_fold, y_pred)\n",
    "    Accuracy.append(accuracyscore)\n",
    "    prec=metrics.precision_score(y_test_fold, y_pred)\n",
    "    Precision.append(prec)\n",
    "    rec=metrics.recall_score(y_test_fold, y_pred)\n",
    "    Recall.append(rec)\n",
    "    s=logreg.score(X_test_fold, y_test_fold)\n",
    "    model_score.append(s)"
   ]
  },
  {
   "cell_type": "code",
   "execution_count": 242,
   "metadata": {},
   "outputs": [
    {
     "name": "stdout",
     "output_type": "stream",
     "text": [
      "Maximum Accuracy of the model 0.9996\n",
      "Minimum Accuracy of the model: 0.9988\n",
      "Overall Accuracy of the model: 0.99908\n",
      "confusion matrix:  [array([[3996,    0],\n",
      "       [   1,    3]], dtype=int64), array([[3996,    0],\n",
      "       [   3,    1]], dtype=int64), array([[3996,    0],\n",
      "       [   4,    0]], dtype=int64), array([[3996,    0],\n",
      "       [   2,    2]], dtype=int64), array([[3995,    0],\n",
      "       [   5,    0]], dtype=int64), array([[3995,    0],\n",
      "       [   3,    2]], dtype=int64), array([[3995,    0],\n",
      "       [   5,    0]], dtype=int64), array([[3995,    0],\n",
      "       [   3,    2]], dtype=int64), array([[3995,    0],\n",
      "       [   5,    0]], dtype=int64), array([[3995,    0],\n",
      "       [   5,    0]], dtype=int64)]\n",
      "Accuracy of the test 0.9991\n",
      "precision 0.5\n",
      "recall 0.23\n"
     ]
    }
   ],
   "source": [
    "print('Maximum Accuracy of the model',max(score)) \n",
    "print('Minimum Accuracy of the model:',min(score)) \n",
    "print('Overall Accuracy of the model:',mean(score))\n",
    "print('confusion matrix: ',confusionmatrix)\n",
    "print('Accuracy of the test',mean(Accuracy))\n",
    "print('precision',mean(Precision))\n",
    "print('recall', mean(Recall))"
   ]
  },
  {
   "cell_type": "code",
   "execution_count": 243,
   "metadata": {},
   "outputs": [],
   "source": [
    "poly_features = PolynomialFeatures(degree=2)\n",
    "\n",
    "X_2nd= poly_features.fit_transform(X)\n"
   ]
  },
  {
   "cell_type": "code",
   "execution_count": 244,
   "metadata": {},
   "outputs": [],
   "source": [
    "for train_index, test_index in skf.split(X_2nd ,y): \n",
    "    X_train_fold, X_test_fold = X_2nd[train_index], X_2nd[test_index] \n",
    "    y_train_fold, y_test_fold = y.iloc[train_index], y.iloc[test_index] \n",
    "    logreg.fit(X_train_fold, y_train_fold) \n",
    "    y_pred = logreg.predict(X_test_fold)\n",
    "    cm = confusion_matrix(y_test_fold, y_pred)\n",
    "    confusionmatrix.append(cm)\n",
    "    accuracyscore= accuracy_score(y_test_fold, y_pred)\n",
    "    Accuracy.append(accuracyscore)\n",
    "    prec=metrics.precision_score(y_test_fold, y_pred)\n",
    "    Precision.append(prec)\n",
    "    s=logreg.score(X_test_fold, y_test_fold)\n",
    "    model_score.append(s)\n",
    "    rec=metrics.recall_score(y_test_fold, y_pred)\n",
    "    Recall.append(rec)"
   ]
  },
  {
   "cell_type": "code",
   "execution_count": 245,
   "metadata": {},
   "outputs": [
    {
     "name": "stdout",
     "output_type": "stream",
     "text": [
      "Maximum Accuracy of the model 0.9996\n",
      "Minimum Accuracy of the model: 0.9988\n",
      "Overall Accuracy of the model: 0.99908\n",
      "confusion matrix:  [array([[3996,    0],\n",
      "       [   1,    3]], dtype=int64), array([[3996,    0],\n",
      "       [   3,    1]], dtype=int64), array([[3996,    0],\n",
      "       [   4,    0]], dtype=int64), array([[3996,    0],\n",
      "       [   2,    2]], dtype=int64), array([[3995,    0],\n",
      "       [   5,    0]], dtype=int64), array([[3995,    0],\n",
      "       [   3,    2]], dtype=int64), array([[3995,    0],\n",
      "       [   5,    0]], dtype=int64), array([[3995,    0],\n",
      "       [   3,    2]], dtype=int64), array([[3995,    0],\n",
      "       [   5,    0]], dtype=int64), array([[3995,    0],\n",
      "       [   5,    0]], dtype=int64), array([[3996,    0],\n",
      "       [   1,    3]], dtype=int64), array([[3996,    0],\n",
      "       [   3,    1]], dtype=int64), array([[3995,    1],\n",
      "       [   4,    0]], dtype=int64), array([[3996,    0],\n",
      "       [   2,    2]], dtype=int64), array([[3995,    0],\n",
      "       [   5,    0]], dtype=int64), array([[3995,    0],\n",
      "       [   2,    3]], dtype=int64), array([[3994,    1],\n",
      "       [   5,    0]], dtype=int64), array([[3995,    0],\n",
      "       [   0,    5]], dtype=int64), array([[3995,    0],\n",
      "       [   3,    2]], dtype=int64), array([[3995,    0],\n",
      "       [   3,    2]], dtype=int64)]\n",
      "Accuracy of the test 0.999175\n",
      "precision 0.6\n",
      "recall 0.31\n"
     ]
    }
   ],
   "source": [
    "print('Maximum Accuracy of the model',max(score)) \n",
    "print('Minimum Accuracy of the model:',min(score)) \n",
    "print('Overall Accuracy of the model:',mean(score))\n",
    "print('confusion matrix: ',confusionmatrix)\n",
    "print('Accuracy of the test',mean(Accuracy))\n",
    "print('precision',mean(Precision))\n",
    "print('recall', mean(Recall))"
   ]
  },
  {
   "cell_type": "code",
   "execution_count": 246,
   "metadata": {},
   "outputs": [],
   "source": [
    "poly_features = PolynomialFeatures(degree=3)\n",
    "\n",
    "X_3rd= poly_features.fit_transform(X)"
   ]
  },
  {
   "cell_type": "code",
   "execution_count": 247,
   "metadata": {},
   "outputs": [],
   "source": [
    "for train_index, test_index in skf.split(X_3rd ,y): \n",
    "    X_train_fold, X_test_fold = X_3rd[train_index], X_3rd[test_index] \n",
    "    y_train_fold, y_test_fold = y.iloc[train_index], y.iloc[test_index] \n",
    "    logreg.fit(X_train_fold, y_train_fold) \n",
    "    y_pred = logreg.predict(X_test_fold)\n",
    "    cm = confusion_matrix(y_test_fold, y_pred)\n",
    "    confusionmatrix.append(cm)\n",
    "    accuracyscore= accuracy_score(y_test_fold, y_pred)\n",
    "    Accuracy.append(accuracyscore)\n",
    "    prec=metrics.precision_score(y_test_fold, y_pred)\n",
    "    Precision.append(prec)\n",
    "    s=logreg.score(X_test_fold, y_test_fold)\n",
    "    model_score.append(s)\n",
    "    rec=metrics.recall_score(y_test_fold, y_pred)\n",
    "    Recall.append(rec)"
   ]
  },
  {
   "cell_type": "code",
   "execution_count": 248,
   "metadata": {},
   "outputs": [
    {
     "name": "stdout",
     "output_type": "stream",
     "text": [
      "Maximum Accuracy of the model 0.9996\n",
      "Minimum Accuracy of the model: 0.9988\n",
      "Overall Accuracy of the model: 0.99908\n",
      "confusion matrix:  [array([[3996,    0],\n",
      "       [   1,    3]], dtype=int64), array([[3996,    0],\n",
      "       [   3,    1]], dtype=int64), array([[3996,    0],\n",
      "       [   4,    0]], dtype=int64), array([[3996,    0],\n",
      "       [   2,    2]], dtype=int64), array([[3995,    0],\n",
      "       [   5,    0]], dtype=int64), array([[3995,    0],\n",
      "       [   3,    2]], dtype=int64), array([[3995,    0],\n",
      "       [   5,    0]], dtype=int64), array([[3995,    0],\n",
      "       [   3,    2]], dtype=int64), array([[3995,    0],\n",
      "       [   5,    0]], dtype=int64), array([[3995,    0],\n",
      "       [   5,    0]], dtype=int64), array([[3996,    0],\n",
      "       [   1,    3]], dtype=int64), array([[3996,    0],\n",
      "       [   3,    1]], dtype=int64), array([[3995,    1],\n",
      "       [   4,    0]], dtype=int64), array([[3996,    0],\n",
      "       [   2,    2]], dtype=int64), array([[3995,    0],\n",
      "       [   5,    0]], dtype=int64), array([[3995,    0],\n",
      "       [   2,    3]], dtype=int64), array([[3994,    1],\n",
      "       [   5,    0]], dtype=int64), array([[3995,    0],\n",
      "       [   0,    5]], dtype=int64), array([[3995,    0],\n",
      "       [   3,    2]], dtype=int64), array([[3995,    0],\n",
      "       [   3,    2]], dtype=int64), array([[3996,    0],\n",
      "       [   1,    3]], dtype=int64), array([[3996,    0],\n",
      "       [   2,    2]], dtype=int64), array([[3996,    0],\n",
      "       [   4,    0]], dtype=int64), array([[3995,    1],\n",
      "       [   1,    3]], dtype=int64), array([[3995,    0],\n",
      "       [   4,    1]], dtype=int64), array([[3994,    1],\n",
      "       [   2,    3]], dtype=int64), array([[3994,    1],\n",
      "       [   4,    1]], dtype=int64), array([[3994,    1],\n",
      "       [   0,    5]], dtype=int64), array([[3995,    0],\n",
      "       [   3,    2]], dtype=int64), array([[3995,    0],\n",
      "       [   1,    4]], dtype=int64)]\n",
      "Accuracy of the test 0.9992333333333333\n",
      "precision 0.6611111111111111\n",
      "recall 0.38\n"
     ]
    }
   ],
   "source": [
    "print('Maximum Accuracy of the model',max(score)) \n",
    "print('Minimum Accuracy of the model:',min(score)) \n",
    "print('Overall Accuracy of the model:',mean(score))\n",
    "print('confusion matrix: ',confusionmatrix)\n",
    "print('Accuracy of the test',mean(Accuracy))\n",
    "print('precision',mean(Precision))\n",
    "print('recall', mean(Recall))"
   ]
  },
  {
   "cell_type": "code",
   "execution_count": 250,
   "metadata": {},
   "outputs": [],
   "source": [
    "poly_features = PolynomialFeatures(degree=4)\n",
    "\n",
    "X_4th= poly_features.fit_transform(X)"
   ]
  },
  {
   "cell_type": "code",
   "execution_count": 251,
   "metadata": {},
   "outputs": [],
   "source": [
    "for train_index, test_index in skf.split(X_4th ,y): \n",
    "    X_train_fold, X_test_fold = X_4th[train_index], X_4th[test_index] \n",
    "    y_train_fold, y_test_fold = y.iloc[train_index], y.iloc[test_index] \n",
    "    logreg.fit(X_train_fold, y_train_fold) \n",
    "    y_pred = logreg.predict(X_test_fold)\n",
    "    cm = confusion_matrix(y_test_fold, y_pred)\n",
    "    confusionmatrix.append(cm)\n",
    "    accuracyscore= accuracy_score(y_test_fold, y_pred)\n",
    "    Accuracy.append(accuracyscore)\n",
    "    prec=metrics.precision_score(y_test_fold, y_pred)\n",
    "    Precision.append(prec)\n",
    "    s=logreg.score(X_test_fold, y_test_fold)\n",
    "    model_score.append(s)\n",
    "    rec=metrics.recall_score(y_test_fold, y_pred)\n",
    "    Recall.append(rec)"
   ]
  },
  {
   "cell_type": "code",
   "execution_count": 252,
   "metadata": {},
   "outputs": [
    {
     "name": "stdout",
     "output_type": "stream",
     "text": [
      "Maximum Accuracy of the model 0.9996\n",
      "Minimum Accuracy of the model: 0.9988\n",
      "Overall Accuracy of the model: 0.99908\n",
      "confusion matrix:  [array([[3996,    0],\n",
      "       [   1,    3]], dtype=int64), array([[3996,    0],\n",
      "       [   3,    1]], dtype=int64), array([[3996,    0],\n",
      "       [   4,    0]], dtype=int64), array([[3996,    0],\n",
      "       [   2,    2]], dtype=int64), array([[3995,    0],\n",
      "       [   5,    0]], dtype=int64), array([[3995,    0],\n",
      "       [   3,    2]], dtype=int64), array([[3995,    0],\n",
      "       [   5,    0]], dtype=int64), array([[3995,    0],\n",
      "       [   3,    2]], dtype=int64), array([[3995,    0],\n",
      "       [   5,    0]], dtype=int64), array([[3995,    0],\n",
      "       [   5,    0]], dtype=int64), array([[3996,    0],\n",
      "       [   1,    3]], dtype=int64), array([[3996,    0],\n",
      "       [   3,    1]], dtype=int64), array([[3995,    1],\n",
      "       [   4,    0]], dtype=int64), array([[3996,    0],\n",
      "       [   2,    2]], dtype=int64), array([[3995,    0],\n",
      "       [   5,    0]], dtype=int64), array([[3995,    0],\n",
      "       [   2,    3]], dtype=int64), array([[3994,    1],\n",
      "       [   5,    0]], dtype=int64), array([[3995,    0],\n",
      "       [   0,    5]], dtype=int64), array([[3995,    0],\n",
      "       [   3,    2]], dtype=int64), array([[3995,    0],\n",
      "       [   3,    2]], dtype=int64), array([[3996,    0],\n",
      "       [   1,    3]], dtype=int64), array([[3996,    0],\n",
      "       [   2,    2]], dtype=int64), array([[3996,    0],\n",
      "       [   4,    0]], dtype=int64), array([[3995,    1],\n",
      "       [   1,    3]], dtype=int64), array([[3995,    0],\n",
      "       [   4,    1]], dtype=int64), array([[3994,    1],\n",
      "       [   2,    3]], dtype=int64), array([[3994,    1],\n",
      "       [   4,    1]], dtype=int64), array([[3994,    1],\n",
      "       [   0,    5]], dtype=int64), array([[3995,    0],\n",
      "       [   3,    2]], dtype=int64), array([[3995,    0],\n",
      "       [   1,    4]], dtype=int64), array([[3996,    0],\n",
      "       [   0,    4]], dtype=int64), array([[3996,    0],\n",
      "       [   1,    3]], dtype=int64), array([[3996,    0],\n",
      "       [   4,    0]], dtype=int64), array([[3995,    1],\n",
      "       [   0,    4]], dtype=int64), array([[3995,    0],\n",
      "       [   2,    3]], dtype=int64), array([[3993,    2],\n",
      "       [   2,    3]], dtype=int64), array([[3994,    1],\n",
      "       [   3,    2]], dtype=int64), array([[3995,    0],\n",
      "       [   0,    5]], dtype=int64), array([[3995,    0],\n",
      "       [   3,    2]], dtype=int64), array([[3995,    0],\n",
      "       [   2,    3]], dtype=int64)]\n",
      "Accuracy of the test 0.99929375\n",
      "precision 0.6975\n",
      "recall 0.44375\n"
     ]
    }
   ],
   "source": [
    "print('Maximum Accuracy of the model',max(score)) \n",
    "print('Minimum Accuracy of the model:',min(score)) \n",
    "print('Overall Accuracy of the model:',mean(score))\n",
    "print('confusion matrix: ',confusionmatrix)\n",
    "print('Accuracy of the test',mean(Accuracy))\n",
    "print('precision',mean(Precision))\n",
    "print('recall', mean(Recall))"
   ]
  },
  {
   "cell_type": "code",
   "execution_count": null,
   "metadata": {},
   "outputs": [],
   "source": [
    "#The best model is the 4th degree polynomianl model with the highest precision and recall\n",
    "#but as the dataset is huge even with the sampling it took a lot of time to apply regularization on it and then the kernel always die so\n",
    "#reguralization is applied on the the 1st degree logistic regression as this was the only one that could run and output a graph"
   ]
  },
  {
   "cell_type": "code",
   "execution_count": null,
   "metadata": {},
   "outputs": [],
   "source": [
    "lambdas = np.arange(0,3,step=0.01)\n",
    "training_errors = [] \n",
    "CV_errors = [] \n",
    "for i in lambdas:\n",
    "    clf = linear_model.Ridge (alpha = i,max_iter=1000)\n",
    "    clf.fit(X, y)\n",
    "#----------------------------------------------------------------------------------------------    \n",
    "    training_predictions = clf.predict(X)\n",
    "    training_mse = mean_squared_error(y, training_predictions)\n",
    "    training_errors.append(training_mse)\n",
    "#------------------------------------------------------------------------------------------------\n",
    "    #CV_predictions = clf.predict(X_CV)\n",
    "    CV_mse = (-1*cross_val_score(clf,X,y,scoring = 'neg_mean_squared_error', cv=4)).mean()\n",
    "    #CV_mse = mean_squared_error(y_CV, CV_predictions)\n",
    "    CV_errors.append(CV_mse)\n",
    "#print(\"training errors: \",training_errors)\n",
    "print(\"---------------------------------------------------------------------------------------------------\")\n",
    "#print(\"testing errors: \", testing_errors)"
   ]
  },
  {
   "cell_type": "code",
   "execution_count": 185,
   "metadata": {},
   "outputs": [
    {
     "data": {
      "image/png": "[encoded data removed]",
      "text/plain": [
       "<Figure size 1152x648 with 1 Axes>"
      ]
     },
     "metadata": {
      "needs_background": "light"
     },
     "output_type": "display_data"
    }
   ],
   "source": [
    "plt.figure(figsize=(16, 9))\n",
    "plt.plot(lambdas, training_errors, label=\"train\",color='blue')#bluee\n",
    "plt.plot(lambdas, CV_errors, label=\"test\",color='red')#redd\n",
    "plt.xlabel(\"$\\\\lambda$\", fontsize=14)\n",
    "plt.ylabel(\"cost\", fontsize=14)\n",
    "plt.show()"
   ]
  },
  {
   "cell_type": "code",
   "execution_count": 186,
   "metadata": {},
   "outputs": [
    {
     "data": {
      "image/png": "[encoded data removed]",
      "text/plain": [
       "<Figure size 432x288 with 1 Axes>"
      ]
     },
     "metadata": {
      "needs_background": "light"
     },
     "output_type": "display_data"
    }
   ],
   "source": [
    "plt.figure()\n",
    "plt.plot(lambdas, CV_errors, label=\"test\",color='red')#redd\n",
    "plt.xlabel(\"$\\\\lambda$\", fontsize=14)\n",
    "plt.ylabel(\"cost\", fontsize=14)\n",
    "plt.show()"
   ]
  },
  {
   "cell_type": "code",
   "execution_count": 187,
   "metadata": {},
   "outputs": [
    {
     "data": {
      "image/png": "[encoded data removed]",
      "text/plain": [
       "<Figure size 432x288 with 1 Axes>"
      ]
     },
     "metadata": {
      "needs_background": "light"
     },
     "output_type": "display_data"
    }
   ],
   "source": [
    "plt.figure()\n",
    "plt.plot(lambdas, training_errors, label=\"train\",color='blue')\n",
    "plt.xlabel(\"$\\\\lambda$\", fontsize=14)\n",
    "plt.ylabel(\"cost\", fontsize=14)\n",
    "plt.show()"
   ]
  },
  {
   "cell_type": "code",
   "execution_count": null,
   "metadata": {},
   "outputs": [],
   "source": [
    "#The best lambda is at 0.75"
   ]
  }
 ],
 "metadata": {
  "kernelspec": {
   "display_name": "Python 3",
   "language": "python",
   "name": "python3"
  },
  "language_info": {
   "codemirror_mode": {
    "name": "ipython",
    "version": 3
   },
   "file_extension": ".py",
   "mimetype": "text/x-python",
   "name": "python",
   "nbconvert_exporter": "python",
   "pygments_lexer": "ipython3",
   "version": "3.8.5"
  }
 },
 "nbformat": 4,
 "nbformat_minor": 4
}
